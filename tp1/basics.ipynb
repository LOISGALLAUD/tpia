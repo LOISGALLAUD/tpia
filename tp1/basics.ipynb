{
 "cells": [
  {
   "cell_type": "markdown",
   "metadata": {},
   "source": [
    "# Pytorch basics\n",
    "\n",
    "<center><a href=\"https://pytorch.org/\">\n",
    "    <img src=\"https://upload.wikimedia.org/wikipedia/commons/9/96/Pytorch_logo.png\" width=\"300\"></a></center>\n",
    "    \n",
    "In this first script, we see the basics of Pytorch for manipulating tensors.\n",
    "\n",
    "Remember to check the [official documentation](https://pytorch.org/docs/stable/index.html), which is frequently used in these labs."
   ]
  },
  {
   "cell_type": "code",
   "execution_count": 1,
   "metadata": {},
   "outputs": [],
   "source": [
    "import torch\n",
    "import numpy as np\n",
    "from matplotlib import pyplot as plt"
   ]
  },
  {
   "cell_type": "markdown",
   "metadata": {},
   "source": [
    "## Creating tensors\n",
    "\n",
    "A [tensor](https://en.wikipedia.org/wiki/Tensor) is a multi-dimensional array (just like numpy arrays), which can store any structured numerical data. A 0D-tensor is just a scalar number, a 1D-tensor is a vector, a 2D-tensor is a matrix, a 3D-tensor is a \"cube\", etc.\n",
    "\n",
    "<center><a href=\"https://medium.com/@anoorasfatima/10-most-common-maths-operation-with-pytorchs-tensor-70a491d8cafd\">\n",
    "    <img src=\"https://miro.medium.com/max/1308/1*8jdzMrA33Leu3j3F6A8a3w.png\" width=\"400\"></a></center>"
   ]
  },
  {
   "cell_type": "code",
   "execution_count": 2,
   "metadata": {},
   "outputs": [
    {
     "name": "stdout",
     "output_type": "stream",
     "text": [
      "[[0. 0. 0. 0. 0.]]\n",
      "[[1. 1. 1. 1. 1.]]\n",
      "[[1 2]\n",
      " [3 4]]\n",
      "(2, 2) 2 2\n",
      "[[-0.05273869  1.0455339  -0.5843929  -0.80805748  0.36126024]\n",
      " [-1.52659303  0.05955381 -0.53456604 -0.57823933 -0.81769541]\n",
      " [-0.24851623  0.34462072 -0.64401856  0.98785768  1.12744128]\n",
      " [ 0.44640441 -1.24600413 -1.62175672 -0.2209149  -1.707666  ]]\n"
     ]
    }
   ],
   "source": [
    "# Reminder of numpy\n",
    "x = np.zeros((1, 5)) # create a 2D array (of shape 1x5) filled with 0\n",
    "print(x)\n",
    "x = np.ones((1, 5)) # create a 2D array (of shape 1x5) filled with 1\n",
    "print(x)\n",
    "x = np.array([[1, 2], [3, 4]]) # create an array with specified values\n",
    "print(x)\n",
    "print(x.shape, x.shape[0], x.shape[1]) # get the shape of an array\n",
    "x = np.random.randn(4, 5) # create an array with numbers drawn from a standard normal distribution\n",
    "print(x)"
   ]
  },
  {
   "cell_type": "code",
   "execution_count": 3,
   "metadata": {},
   "outputs": [
    {
     "name": "stdout",
     "output_type": "stream",
     "text": [
      "tensor([[0., 0., 0., 0., 0.]])\n",
      "tensor([[1., 1., 1., 1., 1.]])\n",
      "tensor([[1, 2],\n",
      "        [3, 4]])\n",
      "torch.Size([2, 2]) 2 2\n",
      "tensor([[ 0.3703,  0.2568, -0.8294, -1.6274,  0.1492],\n",
      "        [ 0.0294, -0.3634,  0.5299,  0.0070, -0.5363],\n",
      "        [ 1.3196, -0.3296,  0.9376,  0.4557, -0.5808],\n",
      "        [ 1.3996,  1.1523, -1.5772, -0.2293,  0.0737]])\n"
     ]
    }
   ],
   "source": [
    "# TO DO: create the same tensors in pytorch\n",
    "# hint: use 'torch' instead of 'np', the functions are similar\n",
    "x = torch.zeros((1, 5))\n",
    "print(x)\n",
    "x = torch.ones((1, 5))\n",
    "print(x)\n",
    "x = torch.tensor([[1, 2], [3, 4]])\n",
    "print(x)\n",
    "print(x.shape, x.shape[0], x.shape[1])\n",
    "x = torch.randn(4, 5)\n",
    "print(x)\n"
   ]
  },
  {
   "cell_type": "code",
   "execution_count": 4,
   "metadata": {},
   "outputs": [
    {
     "name": "stdout",
     "output_type": "stream",
     "text": [
      "[[1. 1. 1.]\n",
      " [1. 1. 1.]]\n",
      "tensor([[1., 1., 1.],\n",
      "        [1., 1., 1.]], dtype=torch.float64)\n",
      "[[1. 1. 1.]\n",
      " [1. 1. 1.]]\n"
     ]
    }
   ],
   "source": [
    "# Numpy Bridge: it's also possible to directly transform numpy arrays into pytorch tensor\n",
    "x_np = np.ones((2,3))\n",
    "print(x_np)\n",
    "x_pt = torch.from_numpy(x_np)\n",
    "print(x_pt)\n",
    "\n",
    "# And conversely:\n",
    "x_np = x_pt.numpy()\n",
    "print(x_np)"
   ]
  },
  {
   "cell_type": "code",
   "execution_count": 5,
   "metadata": {},
   "outputs": [
    {
     "name": "stdout",
     "output_type": "stream",
     "text": [
      "tensor([[20., 20., 20., 20., 20.]])\n"
     ]
    }
   ],
   "source": [
    "# Another way to create a tensor filled with a given value\n",
    "x = torch.zeros((1, 5))\n",
    "x.fill_(20)\n",
    "print(x)"
   ]
  },
  {
   "cell_type": "code",
   "execution_count": 6,
   "metadata": {},
   "outputs": [
    {
     "name": "stdout",
     "output_type": "stream",
     "text": [
      "tensor([[-1.1902,  0.0670, -0.2118, -2.0085, -0.3942]])\n",
      "torch.Size([1, 5]) torch.Size([1, 5])\n"
     ]
    }
   ],
   "source": [
    "# With some functions, you can create an array without explicitly providing the shape (but instead use another tensor)\n",
    "y = torch.randn_like(x)\n",
    "print(y)\n",
    "print(y.shape, x.shape)"
   ]
  },
  {
   "cell_type": "code",
   "execution_count": 7,
   "metadata": {},
   "outputs": [
    {
     "name": "stdout",
     "output_type": "stream",
     "text": [
      "tensor([[0., 0., 0., 0., 0.]])\n",
      "tensor([[1., 1., 1., 1., 1.]])\n"
     ]
    }
   ],
   "source": [
    "# TO DO:\n",
    "# - create a tensor x0 that has the same size of x and filled with 0\n",
    "x0 = torch.zeros_like(x)\n",
    "# - create a tensor x1 that has the same size of x and filled with 1\n",
    "y0 = torch.ones_like(x)\n",
    "\n",
    "print(x0)\n",
    "print(y0)\n"
   ]
  },
  {
   "cell_type": "code",
   "execution_count": 8,
   "metadata": {},
   "outputs": [
    {
     "name": "stdout",
     "output_type": "stream",
     "text": [
      "tensor([3, 5, 7, 9])\n",
      "tensor([0, 1, 2, 3, 4, 5, 6, 7, 8, 9])\n"
     ]
    }
   ],
   "source": [
    "# Create an array of numbers from 'ind_beg' to 'ind_end' with an increment of 'inc_step'\n",
    "ind_beg = 3\n",
    "ind_end = 10\n",
    "inc_step = 2\n",
    "x = torch.arange(ind_beg, ind_end, inc_step)\n",
    "print(x)\n",
    "\n",
    "# Default values are 'ind_beg=0' and 'inc_step=1': \n",
    "x = torch.arange(ind_end)\n",
    "print(x)"
   ]
  },
  {
   "cell_type": "markdown",
   "metadata": {},
   "source": [
    "## Basic loops"
   ]
  },
  {
   "cell_type": "code",
   "execution_count": 9,
   "metadata": {},
   "outputs": [
    {
     "name": "stdout",
     "output_type": "stream",
     "text": [
      "0\n",
      "1\n",
      "2\n",
      "3\n",
      "4\n",
      "5\n",
      "6\n",
      "7\n",
      "8\n",
      "9\n"
     ]
    }
   ],
   "source": [
    "# The most simple 'for' loop\n",
    "for i in range(10):\n",
    "    print(i)"
   ]
  },
  {
   "cell_type": "code",
   "execution_count": 10,
   "metadata": {},
   "outputs": [
    {
     "name": "stdout",
     "output_type": "stream",
     "text": [
      "tensor([-0.9214,  0.6175, -1.7736, -1.8679,  0.2412,  0.3408, -0.3008, -0.3480,\n",
      "         0.0223, -0.6104])\n",
      "tensor(-0.9214)\n",
      "tensor(0.6175)\n",
      "tensor(-1.7736)\n",
      "tensor(-1.8679)\n",
      "tensor(0.2412)\n",
      "tensor(0.3408)\n",
      "tensor(-0.3008)\n",
      "tensor(-0.3480)\n",
      "tensor(0.0223)\n",
      "tensor(-0.6104)\n"
     ]
    }
   ],
   "source": [
    "# You can also directly iterate over the elements of a 1D-tensor (or list) \n",
    "my_list = torch.randn(10)\n",
    "print(my_list)\n",
    "for x in my_list:\n",
    "    print(x)"
   ]
  },
  {
   "cell_type": "code",
   "execution_count": 11,
   "metadata": {},
   "outputs": [
    {
     "name": "stdout",
     "output_type": "stream",
     "text": [
      "0 tensor(-0.9214)\n",
      "1 tensor(0.6175)\n",
      "2 tensor(-1.7736)\n",
      "3 tensor(-1.8679)\n",
      "4 tensor(0.2412)\n",
      "5 tensor(0.3408)\n",
      "6 tensor(-0.3008)\n",
      "7 tensor(-0.3480)\n",
      "8 tensor(0.0223)\n",
      "9 tensor(-0.6104)\n"
     ]
    }
   ],
   "source": [
    "# If you use 'enumerate', you can keep track of the index\n",
    "for i, x in enumerate(my_list):\n",
    "    print(i, x)"
   ]
  },
  {
   "cell_type": "code",
   "execution_count": 12,
   "metadata": {},
   "outputs": [
    {
     "name": "stdout",
     "output_type": "stream",
     "text": [
      "torch.Size([16, 16])\n"
     ]
    },
    {
     "data": {
      "image/png": "[encoded data removed]",
      "text/plain": [
       "<Figure size 640x480 with 1 Axes>"
      ]
     },
     "metadata": {},
     "output_type": "display_data"
    },
    {
     "name": "stdout",
     "output_type": "stream",
     "text": [
      "torch.Size([16, 16])\n"
     ]
    },
    {
     "data": {
      "image/png": "[encoded data removed]",
      "text/plain": [
       "<Figure size 640x480 with 1 Axes>"
      ]
     },
     "metadata": {},
     "output_type": "display_data"
    },
    {
     "name": "stdout",
     "output_type": "stream",
     "text": [
      "torch.Size([16, 16])\n"
     ]
    },
    {
     "data": {
      "image/png": "[encoded data removed]",
      "text/plain": [
       "<Figure size 640x480 with 1 Axes>"
      ]
     },
     "metadata": {},
     "output_type": "display_data"
    },
    {
     "name": "stdout",
     "output_type": "stream",
     "text": [
      "torch.Size([16, 16])\n"
     ]
    },
    {
     "data": {
      "image/png": "[encoded data removed]",
      "text/plain": [
       "<Figure size 640x480 with 1 Axes>"
      ]
     },
     "metadata": {},
     "output_type": "display_data"
    },
    {
     "name": "stdout",
     "output_type": "stream",
     "text": [
      "torch.Size([16, 16])\n"
     ]
    },
    {
     "data": {
      "image/png": "[encoded data removed]",
      "text/plain": [
       "<Figure size 640x480 with 1 Axes>"
      ]
     },
     "metadata": {},
     "output_type": "display_data"
    },
    {
     "name": "stdout",
     "output_type": "stream",
     "text": [
      "torch.Size([16, 16])\n"
     ]
    },
    {
     "data": {
      "image/png": "[encoded data removed]",
      "text/plain": [
       "<Figure size 640x480 with 1 Axes>"
      ]
     },
     "metadata": {},
     "output_type": "display_data"
    },
    {
     "name": "stdout",
     "output_type": "stream",
     "text": [
      "torch.Size([16, 16])\n"
     ]
    },
    {
     "data": {
      "image/png": "[encoded data removed]",
      "text/plain": [
       "<Figure size 640x480 with 1 Axes>"
      ]
     },
     "metadata": {},
     "output_type": "display_data"
    },
    {
     "name": "stdout",
     "output_type": "stream",
     "text": [
      "torch.Size([16, 16])\n"
     ]
    },
    {
     "data": {
      "image/png": "[encoded data removed]",
      "text/plain": [
       "<Figure size 640x480 with 1 Axes>"
      ]
     },
     "metadata": {},
     "output_type": "display_data"
    },
    {
     "name": "stdout",
     "output_type": "stream",
     "text": [
      "torch.Size([16, 16])\n"
     ]
    },
    {
     "data": {
      "image/png": "[encoded data removed]",
      "text/plain": [
       "<Figure size 640x480 with 1 Axes>"
      ]
     },
     "metadata": {},
     "output_type": "display_data"
    },
    {
     "name": "stdout",
     "output_type": "stream",
     "text": [
      "torch.Size([16, 16])\n"
     ]
    },
    {
     "data": {
      "image/png": "[encoded data removed]",
      "text/plain": [
       "<Figure size 640x480 with 1 Axes>"
      ]
     },
     "metadata": {},
     "output_type": "display_data"
    }
   ],
   "source": [
    "# If the object to iterate is a multivariate tensor, then it will iterate over the first dimension\n",
    "# For instance, if we iterate over a tensor of size [10, 16, 16], it will produce 10 tensors of size [16,16]\n",
    "\n",
    "mytensor = torch.randn(10, 16, 16)\n",
    "for i, x in enumerate(mytensor):\n",
    "    print(x.shape)\n",
    "    plt.figure()\n",
    "    plt.imshow(x)\n",
    "    plt.title(f\"Layer {i}\")\n",
    "    plt.show()"
   ]
  },
  {
   "cell_type": "markdown",
   "metadata": {},
   "source": [
    "## Basic operations"
   ]
  },
  {
   "cell_type": "code",
   "execution_count": 13,
   "metadata": {},
   "outputs": [
    {
     "name": "stdout",
     "output_type": "stream",
     "text": [
      "tensor([[8., 8., 8., 8., 8.]])\n",
      "tensor([[2., 2., 2., 2., 2.]])\n",
      "tensor([[15., 15., 15., 15., 15.]])\n",
      "tensor([[1.6667, 1.6667, 1.6667, 1.6667, 1.6667]])\n",
      "tensor([[125., 125., 125., 125., 125.]])\n"
     ]
    }
   ],
   "source": [
    "x = torch.ones((1,5))\n",
    "x.fill_(5)\n",
    "y = torch.ones((1,5))\n",
    "y.fill_(3)\n",
    "\n",
    "# Addition, subtraction, multiplication, division, and power\n",
    "print(x+y)\n",
    "print(x-y)\n",
    "print(x*y)\n",
    "print(x/y)\n",
    "print(x ** y)"
   ]
  },
  {
   "cell_type": "code",
   "execution_count": 14,
   "metadata": {},
   "outputs": [
    {
     "name": "stdout",
     "output_type": "stream",
     "text": [
      "tensor([[ 2.3741,  0.5962,  0.4694],\n",
      "        [ 0.7239, -0.1282, -0.7033]])\n",
      "tensor([[10.7412,  1.8152,  1.5991],\n",
      "        [ 2.0625,  0.8797,  0.4950]])\n"
     ]
    }
   ],
   "source": [
    "# Pytorch has some built-in basic math functions (exp, sin, cos...) that can be applied element-wise to a tensor\n",
    "x = torch.randn(2,3)\n",
    "y = torch.exp(x)\n",
    "print(x)\n",
    "print(y)"
   ]
  },
  {
   "cell_type": "code",
   "execution_count": 15,
   "metadata": {},
   "outputs": [
    {
     "data": {
      "text/plain": [
       "[<matplotlib.lines.Line2D at 0x114741760>]"
      ]
     },
     "execution_count": 15,
     "metadata": {},
     "output_type": "execute_result"
    },
    {
     "data": {
      "image/png": "[encoded data removed]",
      "text/plain": [
       "<Figure size 640x480 with 1 Axes>"
      ]
     },
     "metadata": {},
     "output_type": "display_data"
    }
   ],
   "source": [
    "# TO DO: plot the function y=sin(x)\n",
    "# - create a tensor x which ranges from -5 to 5 with a step increment of 0.1\n",
    "x = torch.arange(-5, 5, 0.1)\n",
    "# - compute y=sin(x) (use the torch.sin function)\n",
    "y = torch.sin(x)\n",
    "# - plot it using plt.plot(x, y)\n",
    "plt.plot(x, y)\n"
   ]
  },
  {
   "cell_type": "code",
   "execution_count": 16,
   "metadata": {},
   "outputs": [
    {
     "data": {
      "text/plain": [
       "[<matplotlib.lines.Line2D at 0x105b40fd0>]"
      ]
     },
     "execution_count": 16,
     "metadata": {},
     "output_type": "execute_result"
    },
    {
     "data": {
      "image/png": "[encoded data removed]",
      "text/plain": [
       "<Figure size 640x480 with 1 Axes>"
      ]
     },
     "metadata": {},
     "output_type": "display_data"
    }
   ],
   "source": [
    "# TO DO: plot a noisy sinusoid\n",
    "# - create a noise tensor called 'noise' with the same shape as y (use torch.randn_like)\n",
    "noise = torch.randn_like(y)\n",
    "# - create a scalar amount_noise which control the amount of noise (set it at 0.1 for instance)\n",
    "amount_noise = 0.1\n",
    "# - compute z, which is the sum of y and the noise tensor * the amount of noise\n",
    "z = y + noise * amount_noise\n",
    "# - plot z as a function of x\n",
    "plt.plot(x, z)\n",
    "\n"
   ]
  },
  {
   "cell_type": "code",
   "execution_count": 17,
   "metadata": {},
   "outputs": [
    {
     "name": "stdout",
     "output_type": "stream",
     "text": [
      "tensor([[ 1.3688,  0.7615, -0.8162, -0.1991,  2.9570,  1.4296],\n",
      "        [-0.4789,  0.7178,  1.5084, -1.6946,  1.4235,  1.1478],\n",
      "        [-1.2849, -1.4375,  0.1578, -0.0708,  1.1471,  0.3773]])\n",
      "tensor([[ 1.3688,  0.7615, -0.8162],\n",
      "        [-0.4789,  0.7178,  1.5084],\n",
      "        [-1.2849, -1.4375,  0.1578],\n",
      "        [ 1.0001, -0.2893,  0.6283],\n",
      "        [ 0.5396,  0.5189, -1.4436]])\n",
      "tensor([[ 1.3688,  0.7615, -0.8162],\n",
      "        [-0.4789,  0.7178,  1.5084],\n",
      "        [-1.2849, -1.4375,  0.1578]])\n"
     ]
    }
   ],
   "source": [
    "# Slicing (same as in numpy)\n",
    "x = torch.randn(5,6)\n",
    "print(x[:3])  # slice over the first dimension\n",
    "print(x[:, :3]) # slice over the second dimension\n",
    "print(x[:3,:3]) # slice over both dimensions"
   ]
  },
  {
   "cell_type": "code",
   "execution_count": 18,
   "metadata": {},
   "outputs": [
    {
     "name": "stdout",
     "output_type": "stream",
     "text": [
      "tensor([[0.6796, 0.1563, 0.0154, 0.6109, 0.9386]])\n",
      "tensor(0.0154) tensor(0.9386) tensor(2) tensor(4)\n",
      "tensor([[0.0154, 0.1563, 0.6109, 0.6796, 0.9386]]) tensor([[2, 1, 3, 0, 4]])\n"
     ]
    }
   ],
   "source": [
    "# Useful functions are min, max, argmin and argmax\n",
    "x = torch.rand(1, 5)\n",
    "print(x)\n",
    "print(x.min(), x.max(), x.argmin(), x.argmax())\n",
    "\n",
    "# It's also easy to sort a tensor with ascending values\n",
    "x_sorted, ind_sort = x.sort()\n",
    "print(x_sorted, ind_sort)"
   ]
  },
  {
   "cell_type": "code",
   "execution_count": 19,
   "metadata": {},
   "outputs": [
    {
     "name": "stdout",
     "output_type": "stream",
     "text": [
      "tensor(-3.2500)\n",
      "tensor(650)\n",
      "tensor(2.5000)\n"
     ]
    },
    {
     "data": {
      "text/plain": [
       "<matplotlib.collections.PathCollection at 0x1147f5670>"
      ]
     },
     "execution_count": 19,
     "metadata": {},
     "output_type": "execute_result"
    },
    {
     "data": {
      "image/png": "[encoded data removed]",
      "text/plain": [
       "<Figure size 640x480 with 1 Axes>"
      ]
     },
     "metadata": {},
     "output_type": "display_data"
    }
   ],
   "source": [
    "# TO DO: find the minimum of a quadratic function\n",
    "# - create a tensor x which ranges from -4 to 4 with a step of 0.01\n",
    "x = torch.arange(-4, 4, 0.01)\n",
    "# - compute y = x^2 - 5x + 3\n",
    "y = x**2 - 5*x + 3\n",
    "# - plot y as a function of x\n",
    "plt.plot(x, y)\n",
    "# - compute the minimum value of y and print it\n",
    "min_y = y.min()\n",
    "print(min_y)\n",
    "# - find the index 'min_ind' corresponding to this minimum (hint: use the 'argmin' function)\n",
    "min_ind = y.argmin()\n",
    "print(min_ind)\n",
    "# - compute the value of x corresponding to the minimum: x[ind_min]\n",
    "print(x[min_ind])\n",
    "# - plot the minimum value on the graph (hint: use plt.scatter)\n",
    "plt.scatter(x[min_ind], min_y, c='r')"
   ]
  },
  {
   "cell_type": "markdown",
   "metadata": {},
   "source": [
    "## Tensor types\n",
    "\n",
    "In Pytorch there are several data types, which are listed in the [documentation](https://pytorch.org/docs/stable/tensors.html)."
   ]
  },
  {
   "cell_type": "code",
   "execution_count": 20,
   "metadata": {},
   "outputs": [
    {
     "name": "stdout",
     "output_type": "stream",
     "text": [
      "tensor([[0.3477, 0.7316, 0.3812, 0.3679, 0.9499, 0.9726, 0.8379, 0.1822, 0.5054,\n",
      "         0.5182]])\n",
      "torch.float32\n"
     ]
    }
   ],
   "source": [
    "x = torch.rand(1, 10)\n",
    "print(x)\n",
    "\n",
    "# Display the type using the 'dtype' attribute\n",
    "# By default, it should be float32\n",
    "print(x.dtype)"
   ]
  },
  {
   "cell_type": "code",
   "execution_count": 21,
   "metadata": {},
   "outputs": [
    {
     "name": "stdout",
     "output_type": "stream",
     "text": [
      "torch.float16\n",
      "torch.int16\n",
      "tensor([[0, 0, 0, 0, 0, 0, 0, 0, 0, 0]], dtype=torch.int16)\n"
     ]
    }
   ],
   "source": [
    "# Change the type using the 'type' method\n",
    "x = x.type(torch.float16)\n",
    "print(x.dtype)\n",
    "\n",
    "# Convert it to integer\n",
    "x = x.type(torch.int16)\n",
    "print(x.dtype)\n",
    "print(x)"
   ]
  },
  {
   "cell_type": "code",
   "execution_count": 22,
   "metadata": {},
   "outputs": [
    {
     "name": "stdout",
     "output_type": "stream",
     "text": [
      "tensor(3, dtype=torch.int32)\n"
     ]
    }
   ],
   "source": [
    "# You can specify the type when creating a tensor\n",
    "x = torch.tensor(3, dtype=torch.int)\n",
    "print(x)"
   ]
  },
  {
   "cell_type": "code",
   "execution_count": 23,
   "metadata": {},
   "outputs": [
    {
     "name": "stdout",
     "output_type": "stream",
     "text": [
      "False\n",
      "tensor(3.1416) True torch.float32\n"
     ]
    }
   ],
   "source": [
    "# Check if it's a float\n",
    "x = torch.tensor(3, dtype=torch.int)\n",
    "print(x.is_floating_point())\n",
    "\n",
    "pi = torch.tensor(3.14159)\n",
    "print(pi, pi.is_floating_point(), pi.dtype)"
   ]
  },
  {
   "cell_type": "markdown",
   "metadata": {},
   "source": [
    "## Reshaping"
   ]
  },
  {
   "cell_type": "code",
   "execution_count": 24,
   "metadata": {},
   "outputs": [
    {
     "name": "stdout",
     "output_type": "stream",
     "text": [
      "torch.Size([8, 5])\n",
      "torch.Size([5, 8])\n",
      "torch.Size([5, 8])\n"
     ]
    }
   ],
   "source": [
    "x = torch.randn(8,5)\n",
    "print(x.shape)\n",
    "\n",
    "# Transposition: use either 'x.t()' or 'x.transpose(dims)' where 'dims' specifies the new dimensions order\n",
    "y = x.transpose(1,0)\n",
    "print(y.shape)\n",
    "\n",
    "z = x.t()\n",
    "print(z.shape)"
   ]
  },
  {
   "cell_type": "code",
   "execution_count": 25,
   "metadata": {},
   "outputs": [
    {
     "name": "stdout",
     "output_type": "stream",
     "text": [
      "torch.Size([8, 5]) torch.Size([10, 4])\n",
      "torch.Size([4, 10])\n",
      "torch.Size([2, 20])\n"
     ]
    }
   ],
   "source": [
    "# Reshape: reorganize the tensor with the specified output dimensions (similar as 'numpy.reshape')\n",
    "x = torch.randn(8,5)\n",
    "y = x.reshape(10,4)\n",
    "print(x.shape, y.shape)\n",
    "\n",
    "# You can only specify one dimension and mark the other with '-1', and it will autocomplete consistently\n",
    "z = x.reshape(-1, 10)\n",
    "print(z.shape)\n",
    "z = x.reshape(2, -1)\n",
    "print(z.shape)\n"
   ]
  },
  {
   "cell_type": "code",
   "execution_count": 26,
   "metadata": {},
   "outputs": [
    {
     "name": "stdout",
     "output_type": "stream",
     "text": [
      "tensor([[0., 0., 0., 0.],\n",
      "        [0., 0., 0., 0.],\n",
      "        [0., 0., 0., 0.],\n",
      "        [0., 0., 0., 0.],\n",
      "        [0., 0., 0., 0.],\n",
      "        [0., 0., 0., 0.],\n",
      "        [0., 0., 0., 0.],\n",
      "        [0., 0., 0., 0.],\n",
      "        [0., 0., 0., 0.],\n",
      "        [0., 0., 0., 0.]])\n",
      "tensor([[1., 1., 1., 1.],\n",
      "        [1., 1., 1., 1.],\n",
      "        [1., 1., 1., 1.],\n",
      "        [1., 1., 1., 1.],\n",
      "        [1., 1., 1., 1.],\n",
      "        [1., 1., 1., 1.],\n",
      "        [1., 1., 1., 1.],\n",
      "        [1., 1., 1., 1.],\n",
      "        [1., 1., 1., 1.],\n",
      "        [1., 1., 1., 1.]])\n"
     ]
    }
   ],
   "source": [
    "# View: similar as 'reshape', but only creates a view over the tensor: if the original data is changed, then the viewed tensors also changes\n",
    "x = torch.zeros(8,5)\n",
    "y = x.view(10,4)\n",
    "print(y)\n",
    "\n",
    "x.fill_(1)\n",
    "print(y)"
   ]
  },
  {
   "cell_type": "markdown",
   "metadata": {},
   "source": [
    "## Squeeze and unsqueeze\n",
    "\n",
    "It's important to understand that there is a difference between a tensor of shape `[a, b]` and a tensor of shape `[a, b, 1]`: even though the same data can be stored in both, the second one as an extra dimension (the third one) that can be useful, e.g., if you want to assemble tensors together in a bigger object.\n",
    "\n",
    "For instance, an image with height `a` and width `b` can be seen as a 2D-tensor of shape `[a, b]`. But you can also view it as a single frame in a video, then it's a 3D-tensor of shape `[a, b, 1]`, and the whole video made up with `c` frames would be a 3D-tensor of shape `[a, b, c]`.\n",
    "\n",
    "From a given tensor, you can add an extra dimension (with shape 1) using the `unsqueeze` method. Conversely, you can remove a dimension with shape 1 using the `squeeze` method."
   ]
  },
  {
   "cell_type": "code",
   "execution_count": 27,
   "metadata": {},
   "outputs": [
    {
     "name": "stdout",
     "output_type": "stream",
     "text": [
      "torch.Size([2, 1, 5, 1])\n",
      "torch.Size([2, 5])\n"
     ]
    }
   ],
   "source": [
    "# Example of squeeze: remove all dimensions with shape 1\n",
    "x = torch.zeros(2, 1, 5, 1)\n",
    "print(x.shape)\n",
    "y = x.squeeze()\n",
    "print(y.shape)"
   ]
  },
  {
   "cell_type": "code",
   "execution_count": 28,
   "metadata": {},
   "outputs": [
    {
     "name": "stdout",
     "output_type": "stream",
     "text": [
      "torch.Size([2, 5])\n",
      "torch.Size([1, 2, 5])\n",
      "torch.Size([2, 5, 1])\n"
     ]
    }
   ],
   "source": [
    "# Conversely, 'unsqueeze' allows you to expand a tensor by adding a new dimension, whose location must be specified\n",
    "x = torch.zeros(2, 5)\n",
    "print(x.shape)\n",
    "y = x.unsqueeze(dim=0)\n",
    "print(y.shape)\n",
    "z = x.unsqueeze(dim=2)\n",
    "print(z.shape)"
   ]
  },
  {
   "cell_type": "markdown",
   "metadata": {},
   "source": [
    "## Assembling tensors"
   ]
  },
  {
   "cell_type": "code",
   "execution_count": 29,
   "metadata": {},
   "outputs": [
    {
     "name": "stdout",
     "output_type": "stream",
     "text": [
      "torch.Size([65, 64, 64])\n",
      "torch.Size([10, 706])\n",
      "torch.Size([10, 217, 26])\n"
     ]
    }
   ],
   "source": [
    "# Concatenate: useful to concatenate tensors along a specified (existing) dimension\n",
    "# Works with any tensors, provided that the dimensions over which you don't concatenate are consistent\n",
    "x1 = torch.rand(15, 64, 64)\n",
    "x2 = torch.rand(50, 64, 64)\n",
    "X_concat = torch.cat((x1,x2), dim=0)\n",
    "print(X_concat.shape)\n",
    "\n",
    "x1 = torch.rand(10, 217)\n",
    "x2 = torch.rand(10, 489)\n",
    "X_concat = torch.cat((x1,x2), dim=1)\n",
    "print(X_concat.shape)\n",
    "\n",
    "x1 = torch.rand(10, 217, 12)\n",
    "x2 = torch.rand(10, 217, 14)\n",
    "X_concat = torch.cat((x1,x2), dim=2)\n",
    "print(X_concat.shape)"
   ]
  },
  {
   "cell_type": "code",
   "execution_count": 30,
   "metadata": {},
   "outputs": [
    {
     "name": "stdout",
     "output_type": "stream",
     "text": [
      "torch.Size([2, 16, 16])\n"
     ]
    }
   ],
   "source": [
    "# TO DO :\n",
    "# - create two tensors of shape 16x16 with random values.\n",
    "x = torch.rand(16, 16)\n",
    "y = torch.rand(16, 16)\n",
    "# - concatenate them into a single tensor of size (2, 16, 16)\n",
    "# hint: first 'unsqueeze' the tensors to create a new dimension, and then 'cat' over this dimension\n",
    "z = torch.cat((x.unsqueeze(0), y.unsqueeze(0)), dim=0)\n",
    "print(z.shape)"
   ]
  },
  {
   "cell_type": "code",
   "execution_count": 31,
   "metadata": {},
   "outputs": [
    {
     "name": "stdout",
     "output_type": "stream",
     "text": [
      "torch.Size([3, 10]) torch.Size([3, 10])\n",
      "torch.Size([2, 3, 10])\n",
      "torch.Size([6, 10])\n"
     ]
    }
   ],
   "source": [
    "# Stack: unlike 'cat', 'stack' concatenates the tensors along a new dimension (the inputs tensors must have the same shape)\n",
    "x = torch.ones(3, 10)\n",
    "y = torch.ones(3, 10)\n",
    "print(x.shape, y.shape)\n",
    "\n",
    "z_stack = torch.stack((x, y), dim=0)\n",
    "print(z_stack.shape)\n",
    "\n",
    "# Check the difference with 'cat'\n",
    "z_cat = torch.cat((x, y), dim=0)\n",
    "print(z_cat.shape)"
   ]
  },
  {
   "cell_type": "code",
   "execution_count": 32,
   "metadata": {},
   "outputs": [
    {
     "name": "stdout",
     "output_type": "stream",
     "text": [
      "torch.Size([3, 2, 10])\n",
      "torch.Size([3, 10, 2])\n"
     ]
    }
   ],
   "source": [
    "# It's possible to stack over any dimension, so it will create a tensor accordingly\n",
    "z_stack = torch.stack((x, y), dim=1)\n",
    "print(z_stack.shape)\n",
    "\n",
    "z_stack = torch.stack((x, y), dim=2)\n",
    "print(z_stack.shape)"
   ]
  },
  {
   "cell_type": "code",
   "execution_count": 33,
   "metadata": {},
   "outputs": [
    {
     "name": "stdout",
     "output_type": "stream",
     "text": [
      "torch.Size([2, 3, 10])\n"
     ]
    }
   ],
   "source": [
    "# TO DO : same exercice as before but using stack (should be simpler)\n",
    "z = torch.stack((x, y), dim=0)\n",
    "print(z.shape)"
   ]
  },
  {
   "cell_type": "markdown",
   "metadata": {},
   "source": [
    "## Save and load files"
   ]
  },
  {
   "cell_type": "code",
   "execution_count": 34,
   "metadata": {},
   "outputs": [
    {
     "name": "stdout",
     "output_type": "stream",
     "text": [
      "[[1. 1. 1.]\n",
      " [1. 1. 1.]]\n",
      "tensor([[1., 1., 1.],\n",
      "        [1., 1., 1.]], dtype=torch.float64)\n"
     ]
    }
   ],
   "source": [
    "# Reminder in numpy\n",
    "x_np = np.ones((2,3))\n",
    "np_filepath = 'x_np.npy'\n",
    "np.save(np_filepath, x_np)\n",
    "x_np_load = np.load(np_filepath)\n",
    "print(x_np_load)\n",
    "\n",
    "# In pytorch, it's very similar\n",
    "x_tensor = torch.from_numpy(x_np)\n",
    "tensor_filepath = 'x_tensor.pt'\n",
    "torch.save(x_tensor, tensor_filepath)\n",
    "x_tensor_load = torch.load(tensor_filepath)\n",
    "print(x_tensor_load)"
   ]
  },
  {
   "cell_type": "markdown",
   "metadata": {},
   "source": [
    "## Devices\n",
    "\n",
    "Finally, let's note that there are two types of *devices* in Pytorch: `cpu` and `cuda`. By default, every tensor's device is `cpu`, which means that all computation is performed on the CPU. However, when training big models and handling big datasets (as in deep learning), it's more convenient to use a graphic card (GPU) for the computation. To do that, we just need to tell Pytorch that the data / tensors / models should be copied on a `cuda` device.\n",
    "This is mostly for your general knowledge: we won't use GPU computation in these labs.\n",
    "\n",
    "**Note**: If you didn't install pytorch with CUDA, you should get an error if you try to copy a tensor to `cuda`. That's fine."
   ]
  },
  {
   "cell_type": "code",
   "execution_count": 35,
   "metadata": {},
   "outputs": [
    {
     "name": "stdout",
     "output_type": "stream",
     "text": [
      "Cuda available: False\n",
      "Number of GPUs: 0\n",
      "cpu\n",
      "Torch not compiled with CUDA enabled\n"
     ]
    }
   ],
   "source": [
    "# You can check if a GPU is available (and how many)\n",
    "print('Cuda available:', torch.cuda.is_available())\n",
    "print('Number of GPUs:', torch.cuda.device_count())\n",
    "\n",
    "# By default, any tensor will be on a 'cpu' device\n",
    "x = torch.rand(1, 10)\n",
    "print(x.device)\n",
    "\n",
    "# You can change it using the 'to' method \n",
    "# Doing this is only possible if you have installed CUDA with Pytorch, so you might get an error here.\n",
    "try:\n",
    "    x = x.to('cuda')\n",
    "    print(x.device)\n",
    "except Exception as e:\n",
    "    print(e)"
   ]
  }
 ],
 "metadata": {
  "kernelspec": {
   "display_name": "Python 3 (ipykernel)",
   "language": "python",
   "name": "python3"
  },
  "language_info": {
   "codemirror_mode": {
    "name": "ipython",
    "version": 3
   },
   "file_extension": ".py",
   "mimetype": "text/x-python",
   "name": "python",
   "nbconvert_exporter": "python",
   "pygments_lexer": "ipython3",
   "version": "3.8.18"
  }
 },
 "nbformat": 4,
 "nbformat_minor": 4
}
