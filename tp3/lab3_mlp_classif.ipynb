{
 "cells": [
  {
   "cell_type": "markdown",
   "metadata": {},
   "source": [
    "# Image classification with multilayer perceptron (MLP)\n",
    "\n",
    "In this lab we design and train our first MLP network, and we use it for image classification."
   ]
  },
  {
   "cell_type": "code",
   "execution_count": 1,
   "metadata": {},
   "outputs": [],
   "source": [
    "import torch \n",
    "import torchvision\n",
    "from torch.utils.data import DataLoader, random_split, Subset\n",
    "import torch.nn as nn\n",
    "import os\n",
    "import random\n",
    "import numpy as np\n",
    "import matplotlib.pyplot as plt\n",
    "from skimage import io, transform\n",
    "import copy"
   ]
  },
  {
   "cell_type": "markdown",
   "metadata": {},
   "source": [
    "## Dataset\n",
    "\n",
    "In this lab, we use the [MNIST](https://en.wikipedia.org/wiki/MNIST_database) dataset, which is a large image dataset of hand-written digits.\n",
    "\n",
    "<center><a href=\"https://en.wikipedia.org/wiki/MNIST_database\">\n",
    "    <img src=\"https://upload.wikimedia.org/wikipedia/commons/2/27/MnistExamples.png\"></a></center>\n",
    "\n",
    "Just like some other widely-used datasets, MNIST can be downloaded directly from Pytorch, and includes specific commands to create a `Dataset` object, thus you don't have to do it manually as we did in lab 1."
   ]
  },
  {
   "cell_type": "code",
   "execution_count": 2,
   "metadata": {},
   "outputs": [
    {
     "name": "stdout",
     "output_type": "stream",
     "text": [
      "Number of classes in the dataset: 10\n",
      "Number of images in the train dataset 400\n",
      "Number of images in the test dataset 50\n"
     ]
    }
   ],
   "source": [
    "# Define the data repository\n",
    "data_dir = '../data/'\n",
    "\n",
    "# Choose one (or several) transform(s) to preprocess the data\n",
    "# Here, we transform it to torch tensors, and we normalize the data (to zero-mean and unit-variance)\n",
    "data_transforms = torchvision.transforms.Compose([torchvision.transforms.ToTensor(),\n",
    "                                                  torchvision.transforms.Normalize((0.1307,), (0.3081,))])\n",
    "\n",
    "# Create a Dataset (you can download the data by setting 'download=True')\n",
    "train_data = torchvision.datasets.MNIST(data_dir, train=True, download=True, transform=data_transforms)\n",
    "test_data = torchvision.datasets.MNIST(data_dir, train=False, download=True, transform=data_transforms)\n",
    "num_classes = len(train_data.classes)\n",
    "print('Number of classes in the dataset:', num_classes)\n",
    "\n",
    "# We are not going to work with the full dataset (which is very big), so we only keep small train and test subsets.\n",
    "train_data = Subset(train_data, torch.arange(400))\n",
    "test_data = Subset(test_data, torch.arange(50))\n",
    "print('Number of images in the train dataset', len(train_data))\n",
    "print('Number of images in the test dataset', len(test_data))"
   ]
  },
  {
   "cell_type": "code",
   "execution_count": 3,
   "metadata": {},
   "outputs": [
    {
     "name": "stdout",
     "output_type": "stream",
     "text": [
      "torch.Size([1, 28, 28])\n",
      "Image label : 5\n"
     ]
    },
    {
     "data": {
      "image/png": "[encoded data removed]",
      "text/plain": [
       "<Figure size 640x480 with 1 Axes>"
      ]
     },
     "metadata": {},
     "output_type": "display_data"
    }
   ],
   "source": [
    "# Fetch one data pair (one image and the corresponding label)\n",
    "image, label = train_data[0]\n",
    "print(image.shape)\n",
    "print('Image label :', label)\n",
    "\n",
    "# You should note that the size of the image is [1, 28, 28], which corresponds to [num_channels, height, width]\n",
    "# Indeed, MNIST images are in black and white so there is only 1 color channel.\n",
    "# To plot this image, we need to remove this channel dimension by using squeeze()\n",
    "plt.figure()\n",
    "plt.imshow(image.squeeze(), cmap='gray_r')\n",
    "plt.xticks([]), plt.yticks([])\n",
    "plt.show()"
   ]
  },
  {
   "cell_type": "code",
   "execution_count": 4,
   "metadata": {},
   "outputs": [
    {
     "name": "stdout",
     "output_type": "stream",
     "text": [
      "Number of batches in the training subset: 50\n",
      "Number of batches in the testing subset: 7\n"
     ]
    }
   ],
   "source": [
    "# TO DO:\n",
    "# - create two dataloaders (for the training and testing subsets) with a batch size of 8\n",
    "# - print the number of batches in the training subset\n",
    "\n",
    "batch_size = 8\n",
    "train_dataloader = DataLoader(train_data, batch_size=batch_size, shuffle=True)\n",
    "test_dataloader = DataLoader(test_data, batch_size=batch_size, shuffle=True)\n",
    "\n",
    "print('Number of batches in the training subset:', len(train_dataloader))\n",
    "print('Number of batches in the testing subset:', len(test_dataloader))\n"
   ]
  },
  {
   "cell_type": "code",
   "execution_count": 5,
   "metadata": {},
   "outputs": [
    {
     "name": "stdout",
     "output_type": "stream",
     "text": [
      "torch.Size([8, 1, 28, 28])\n",
      "torch.Size([8])\n"
     ]
    }
   ],
   "source": [
    "# Get a batch of images and corresponding labels from the train dataloader\n",
    "batch_example = next(iter(train_dataloader))\n",
    "image_batch_example = batch_example[0]\n",
    "labels_batch_example = batch_example[1]\n",
    "\n",
    "# Print the size of the batch of images and labels\n",
    "print(image_batch_example.shape)\n",
    "print(labels_batch_example.shape)"
   ]
  },
  {
   "cell_type": "code",
   "execution_count": 6,
   "metadata": {},
   "outputs": [
    {
     "data": {
      "image/png": "[encoded data removed]",
      "text/plain": [
       "<Figure size 1000x600 with 8 Axes>"
      ]
     },
     "metadata": {},
     "output_type": "display_data"
    }
   ],
   "source": [
    "# Plot the images in the batch (along with the corresponding label)\n",
    "plt.figure(figsize = (10,6))\n",
    "for ib in range(batch_size):\n",
    "    plt.subplot(batch_size // 4, 4, ib+1)\n",
    "    plt.imshow(image_batch_example[ib, :].squeeze(), cmap='gray_r')\n",
    "    plt.xticks([]), plt.yticks([])\n",
    "    plt.title('Image label = ' + str(labels_batch_example[ib].item()))\n",
    "plt.show()"
   ]
  },
  {
   "cell_type": "markdown",
   "metadata": {},
   "source": [
    "## MLP network\n",
    "\n",
    "A typical MLP network is composed of several layers:\n",
    "\n",
    "- an *input* layer, which takes a batch of vectors and computes the first hidden representation.\n",
    "- one or several *hidden* layers.\n",
    "- an *output* layer, which computes the output of the network.\n",
    "\n",
    "Each layer consists of a linear part and a non-linear *activation* functions (except for the output layer, which usually don't use an activation function). There are many non-linear activation functions in Pytorch, check the [documentation](https://pytorch.org/docs/stable/nn.html#non-linear-activations-weighted-sum-nonlinearity) for a complete overview. A network is said to be *deep* if it has at least 3 layers (input, at least one hidden, and output).\n",
    "\n",
    "<center><a href=\"https://www.researchgate.net/publication/309592737_Classification_of_VoIP_and_non-VoIP_traffic_using_machine_learning_approaches\">\n",
    "    <img src=\"https://www.researchgate.net/profile/Mouhammd-Alkasassbeh/publication/309592737/figure/fig2/AS:423712664100865@1478032379613/MultiLayer-Perceptron-MLP-sturcture-334-MultiLayer-Perceptron-Classifier-MultiLayer.png\"></a></center>\n",
    "\n",
    "**Note**: Since an MLP manipulates vectors (= 1D-tensors) as inputs, in image processing we first have to transform our images into vectors. For instance, if a black-and-white image is a (3D) tensor of size `[1, 28, 28]`, then we have to reshape it into a tensor of size `[1x28x28] = [784]`.\n",
    "\n",
    "\n",
    "### Example\n",
    "\n",
    "First, we will write a succession of operations which correspond to applying the MLP classifier on the example batch `image_batch_example`."
   ]
  },
  {
   "cell_type": "code",
   "execution_count": 7,
   "metadata": {},
   "outputs": [
    {
     "name": "stdout",
     "output_type": "stream",
     "text": [
      "torch.Size([8, 784])\n"
     ]
    }
   ],
   "source": [
    "# TO DO: reshape the image_batch_example into a batch of vectors (vectorized images):\n",
    "# 'image_batch_example' has size [batch_size, 1, 28, 28]\n",
    "# 'vectorized_batch' should have size [batch_size, 1*28*28]\n",
    "\n",
    "vectorized_batch = image_batch_example.view(batch_size, -1)\n",
    "print(vectorized_batch.shape)"
   ]
  },
  {
   "cell_type": "code",
   "execution_count": 8,
   "metadata": {},
   "outputs": [
    {
     "name": "stdout",
     "output_type": "stream",
     "text": [
      "torch.Size([8, 10])\n"
     ]
    }
   ],
   "source": [
    "# Now we create the input layer (linear and activation) and we pass the vectorized batch to it\n",
    "input_size = vectorized_batch.shape[-1]\n",
    "hidden_size = 10\n",
    "input_layer = nn.Sequential(nn.Linear(input_size, hidden_size), nn.Sigmoid())\n",
    "y = input_layer(vectorized_batch)\n",
    "print(y.shape)"
   ]
  },
  {
   "cell_type": "code",
   "execution_count": 9,
   "metadata": {},
   "outputs": [],
   "source": [
    "# TO DO: create the two other layers (hidden_layer and output_layer):\n",
    "# - the hidden layer goes from 'hidden_size' to 'hidden_size', and uses a Sigmoid activation function\n",
    "# - the output layer goes from 'hidden_size' to 'output_size', which is the number of classes in the dataset (it uses no activation function)\n",
    "# - Compute z = hidden_layer(y) and out=output_layer(z). Print the size of 'out'.\n",
    "\n",
    "hidden_layer = nn.Sequential(nn.Linear(hidden_size, hidden_size), nn.Sigmoid())\n",
    "output_size = num_classes\n",
    "output_layer = nn.Linear(hidden_size, output_size)\n",
    "z = hidden_layer(y)\n",
    "out = output_layer(z)"
   ]
  },
  {
   "cell_type": "markdown",
   "metadata": {},
   "source": [
    "From what we have done above, two important remarks can be made:\n",
    "\n",
    "- The output `out` has size `[batch_size, num_classes]` while the true labels `labels_batch_example` has size `[batch_size]`. This is because `out` contains a predicted probability for each class, while `labels_batch_example` simply contains the true labels.\n",
    "- In classification tasks, we want to output probabilities per class. However, nothing ensures that `out` corresponds to probabilities, since it is not normalized and we didn't use any output activation function (values can be negative and not sum up to 1).\n",
    "\n",
    "However, when training a classification network, we generally use the [Cross Entropy](https://pytorch.org/docs/stable/generated/torch.nn.CrossEntropyLoss.html#torch.nn.CrossEntropyLoss) loss function, which alleviates these two issues. This loss is optimized for handling true labels instead of true probabilities per class, so you don't have to worry about it. Besides, it will automatically apply a [Softmax](https://pytorch.org/docs/stable/generated/torch.nn.Softmax.html) non-linearity to the predicted outputs, in order to normalize them as probabilities per class.\n",
    "\n",
    "**Note**: Instead of Cross Entropy, you can use the [Negative log-likelihood](https://pytorch.org/docs/stable/generated/torch.nn.NLLLoss.html#torch.nn.NLLLoss) similarly. It will also solve the first problem, but then you need to manually add a [log Softmax](https://pytorch.org/docs/stable/generated/torch.nn.LogSoftmax.html#torch.nn.LogSoftmax) as output activation to normalize the outputs."
   ]
  },
  {
   "cell_type": "code",
   "execution_count": 10,
   "metadata": {},
   "outputs": [
    {
     "name": "stdout",
     "output_type": "stream",
     "text": [
      "2.479875087738037\n"
     ]
    }
   ],
   "source": [
    "# Choose Cross Entropy as loss function\n",
    "loss_fn = nn.CrossEntropyLoss()\n",
    "\n",
    "# Compute the error between the predicted labels 'out' and true labels 'labels_batch_example'\n",
    "loss_batch = loss_fn(out, labels_batch_example)\n",
    "print(loss_batch.item())"
   ]
  },
  {
   "cell_type": "markdown",
   "metadata": {},
   "source": [
    "### General module\n",
    "\n",
    "Now, let's create a general MLP classification network. It's a python class that inherits from the general `nn.Module` object, and it should contain at least 2 methods:\n",
    "\n",
    "- `__init__`, which initializes the network when instanciated (creates all the layers and stores some useful parameters if needed).\n",
    "- `forward`, which applies the forward pass (i.e., compute the output 'out' from the input and using the layers).\n",
    "\n",
    "You can add other methods if needed but these two are sufficient for now.\n",
    "\n",
    "**Note**: Remember that Python classes usually define and use some variables/data/tensors/dictionary etc. internally (this includes network layers) called *attributes*: they should be defined in the `__init__` method with a specific structure (the name should start by `self.`, as we did in lab 1). This allows you to access these attributes in other methods, or after defining your network."
   ]
  },
  {
   "cell_type": "code",
   "execution_count": 11,
   "metadata": {},
   "outputs": [],
   "source": [
    "class MLPClassif(nn.Module):\n",
    "    def __init__(self, input_size, hidden_size, output_size, act_fn):\n",
    "        super(MLPClassif, self).__init__()\n",
    "        \n",
    "        # TO DO: define the input, hidden, and output layers as before\n",
    "        self.input_layer = nn.Sequential(nn.Linear(input_size, hidden_size, bias=False), act_fn)\n",
    "        self.hidden_layer = nn.Sequential(nn.Linear(hidden_size, hidden_size), act_fn)\n",
    "        self.output_layer = nn.Linear(hidden_size, output_size)\n",
    "    \n",
    "    def forward(self, x):\n",
    "        \n",
    "        # TO DO: write the 'forward' method, which computes the output 'out' from the input x\n",
    "        # It should apply sequentially the input, hidden, and output layer, as we did in the example before.\n",
    "        \n",
    "        y = self.input_layer(x)\n",
    "        z = self.hidden_layer(y)\n",
    "        return self.output_layer(z)"
   ]
  },
  {
   "cell_type": "code",
   "execution_count": 12,
   "metadata": {},
   "outputs": [],
   "source": [
    "# To DO: Instanciate an MLP classifier called 'model' with a hidden size of 10 and a Sigmoid activation function\n",
    "model = MLPClassif(input_size, hidden_size, output_size, nn.Sigmoid())"
   ]
  },
  {
   "cell_type": "code",
   "execution_count": 13,
   "metadata": {},
   "outputs": [
    {
     "data": {
      "text/plain": [
       "MLPClassif(\n",
       "  (input_layer): Sequential(\n",
       "    (0): Linear(in_features=784, out_features=10, bias=False)\n",
       "    (1): Sigmoid()\n",
       "  )\n",
       "  (hidden_layer): Sequential(\n",
       "    (0): Linear(in_features=10, out_features=10, bias=True)\n",
       "    (1): Sigmoid()\n",
       "  )\n",
       "  (output_layer): Linear(in_features=10, out_features=10, bias=True)\n",
       ")"
      ]
     },
     "execution_count": 13,
     "metadata": {},
     "output_type": "execute_result"
    }
   ],
   "source": [
    "# initialization (ensure reproducibility: everybody should have the same results)\n",
    "def init_weights(m):\n",
    "    if isinstance(m, nn.Linear):\n",
    "        torch.nn.init.xavier_uniform_(m.weight.data)\n",
    "        if m.bias is not None:\n",
    "            m.bias.data.fill_(0.01)\n",
    "    return\n",
    "\n",
    "torch.manual_seed(0)\n",
    "model.apply(init_weights)"
   ]
  },
  {
   "cell_type": "code",
   "execution_count": 14,
   "metadata": {},
   "outputs": [
    {
     "data": {
      "text/plain": [
       "<All keys matched successfully>"
      ]
     },
     "execution_count": 14,
     "metadata": {},
     "output_type": "execute_result"
    }
   ],
   "source": [
    "# You can save / load the model's parameters as follow:\n",
    "# torch.save(model.state_dict(), 'model_mlp_classif.pt')\n",
    "model.load_state_dict(torch.load('model_mlp_classif.pt'))"
   ]
  },
  {
   "cell_type": "code",
   "execution_count": 15,
   "metadata": {},
   "outputs": [
    {
     "name": "stdout",
     "output_type": "stream",
     "text": [
      "Total number of parameters: 8060\n"
     ]
    }
   ],
   "source": [
    "# A useful command to get the total number of parameters in the model\n",
    "print('Total number of parameters:', sum(p.numel() for p in model.parameters()))"
   ]
  },
  {
   "cell_type": "markdown",
   "metadata": {},
   "source": [
    "<span style=\"color:red\">**Q1**</span> How many parameters are in the network?\n",
    "\n",
    "## Training\n",
    "\n",
    "We now write the function for training the network. It's very similar to what we did in lab 2, except now we process batches of data instead of the whole dataset at each epoch."
   ]
  },
  {
   "cell_type": "code",
   "execution_count": 16,
   "metadata": {},
   "outputs": [],
   "source": [
    "def training_mlp_classifier(model, train_dataloader, num_epochs, loss_fn, learning_rate, verbose=True):\n",
    "\n",
    "    # Make a copy of the model (avoid changing the model outside this function)\n",
    "    model_tr = copy.deepcopy(model)\n",
    "    \n",
    "    # Set the model in 'training' mode (ensures all parameters' gradients are computed - it's like setting 'requires_grad=True' for all parameters)\n",
    "    model_tr.train()\n",
    "    \n",
    "    # Define the optimizer\n",
    "    optimizer = torch.optim.SGD(model_tr.parameters(), lr=learning_rate)\n",
    "    \n",
    "    # Initialize a list for storing the training loss over epochs\n",
    "    train_losses = []\n",
    "    \n",
    "    # Training loop\n",
    "    for epoch in range(num_epochs):\n",
    "        \n",
    "        # Initialize the training loss for the current epoch\n",
    "        tr_loss = 0\n",
    "        \n",
    "        # Iterate over batches using the dataloader\n",
    "        for batch_index, (images, labels) in enumerate(train_dataloader):\n",
    "            \n",
    "            # TO DO: write the training procedure for each batch. This should consist of:\n",
    "            # - vectorizing the images (size should be (batch_size, input_size))\n",
    "            # - calculate the predicted labels from the vectorized images using 'model_tr'\n",
    "            # - using loss_fn, calculate the 'loss' between the predicted and true labels\n",
    "            # - set the optimizer gradients at 0 for safety\n",
    "            # - compute the gradients (use the 'backward' method on 'loss')\n",
    "            # - apply the gradient descent algorithm (perform a step of the optimizer)\n",
    "            \n",
    "            vectorized_images = images.view(images.shape[0], -1)\n",
    "            predicted_labels = model_tr(vectorized_images)\n",
    "            loss = loss_fn(predicted_labels, labels)\n",
    "            optimizer.zero_grad()\n",
    "            loss.backward()\n",
    "            optimizer.step()\n",
    "            \n",
    "            # Update the current epoch loss\n",
    "            # Note that 'loss.item()' is the loss averaged over the batch, so multiply it with the current batch size to get the total batch loss\n",
    "            tr_loss += loss.item() * images.shape[0]\n",
    "\n",
    "        # At the end of each epoch, get the average training loss and store it\n",
    "        tr_loss = tr_loss/len(train_dataloader.dataset)\n",
    "        train_losses.append(tr_loss)\n",
    "        \n",
    "        # Display the training loss\n",
    "        if verbose:\n",
    "            print('Epoch [{}/{}], Training loss: {:.4f}'.format(epoch+1, num_epochs, tr_loss))\n",
    "    \n",
    "    return model_tr, train_losses"
   ]
  },
  {
   "cell_type": "code",
   "execution_count": 17,
   "metadata": {},
   "outputs": [
    {
     "name": "stdout",
     "output_type": "stream",
     "text": [
      "Epoch [1/30], Training loss: 2.3550\n",
      "Epoch [2/30], Training loss: 2.3123\n",
      "Epoch [3/30], Training loss: 2.2855\n",
      "Epoch [4/30], Training loss: 2.2657\n",
      "Epoch [5/30], Training loss: 2.2494\n",
      "Epoch [6/30], Training loss: 2.2356\n",
      "Epoch [7/30], Training loss: 2.2227\n",
      "Epoch [8/30], Training loss: 2.2115\n",
      "Epoch [9/30], Training loss: 2.2010\n",
      "Epoch [10/30], Training loss: 2.1911\n",
      "Epoch [11/30], Training loss: 2.1816\n",
      "Epoch [12/30], Training loss: 2.1723\n",
      "Epoch [13/30], Training loss: 2.1636\n",
      "Epoch [14/30], Training loss: 2.1550\n",
      "Epoch [15/30], Training loss: 2.1468\n",
      "Epoch [16/30], Training loss: 2.1378\n",
      "Epoch [17/30], Training loss: 2.1295\n",
      "Epoch [18/30], Training loss: 2.1211\n",
      "Epoch [19/30], Training loss: 2.1128\n",
      "Epoch [20/30], Training loss: 2.1045\n",
      "Epoch [21/30], Training loss: 2.0957\n",
      "Epoch [22/30], Training loss: 2.0870\n",
      "Epoch [23/30], Training loss: 2.0783\n",
      "Epoch [24/30], Training loss: 2.0694\n",
      "Epoch [25/30], Training loss: 2.0604\n",
      "Epoch [26/30], Training loss: 2.0512\n",
      "Epoch [27/30], Training loss: 2.0421\n",
      "Epoch [28/30], Training loss: 2.0325\n",
      "Epoch [29/30], Training loss: 2.0229\n",
      "Epoch [30/30], Training loss: 2.0131\n"
     ]
    }
   ],
   "source": [
    "# TO DO: Define the training parameters and train the model\n",
    "# - 30 epochs\n",
    "# - learning rate = 0.01\n",
    "# - loss function: Cross Entropy\n",
    "# After training, save the model parameters and display the loss over epochs\n",
    "\n",
    "num_epochs = 30\n",
    "learning_rate = 0.01\n",
    "loss_fn = nn.CrossEntropyLoss()\n",
    "model_trained, train_losses = training_mlp_classifier(model, train_dataloader, num_epochs, loss_fn, learning_rate)"
   ]
  },
  {
   "cell_type": "markdown",
   "metadata": {},
   "source": [
    "## Evaluation\n",
    "\n",
    "Now the model is trained, we can evaluate it on the test dataset. We do that by predicting the labels using our model, and comparing it with the true labels. This allows us to compute the classification accuracy, which is provided in the function below."
   ]
  },
  {
   "cell_type": "code",
   "execution_count": 18,
   "metadata": {},
   "outputs": [],
   "source": [
    "# Evaluation function: similar to the training loop, except we don't need to compute any gradient / backprop\n",
    "\n",
    "def eval_mlp_classifier(model, eval_dataloader):\n",
    "    \n",
    "    # Set the model in 'evaluation' mode (this disables some layers (batch norm, dropout...) which are not needed when testing)\n",
    "    model.eval() \n",
    "\n",
    "    # In evaluation phase, we don't need to compute gradients (for memory efficiency)\n",
    "    with torch.no_grad():\n",
    "        # initialize the total and correct number of labels to compute the accuracy\n",
    "        correct_labels = 0\n",
    "        total_labels = 0\n",
    "        \n",
    "        # Iterate over the dataset using the dataloader\n",
    "        for images, labels in eval_dataloader:\n",
    "\n",
    "            # Get the predicted labels\n",
    "            images = images.reshape(images.shape[0], -1)\n",
    "            y_predicted = model(images)\n",
    "            \n",
    "            # To get the predicted labels, we need to get the max over all possible classes\n",
    "            _, label_predicted = torch.max(y_predicted.data, 1)\n",
    "            \n",
    "            # Compute accuracy: count the total number of samples, and the correct labels (compare the true and predicted labels)\n",
    "            total_labels += labels.size(0)\n",
    "            correct_labels += (label_predicted == labels).sum().item()\n",
    "    \n",
    "    accuracy = 100 * correct_labels / total_labels\n",
    "    \n",
    "    return accuracy"
   ]
  },
  {
   "cell_type": "code",
   "execution_count": 19,
   "metadata": {},
   "outputs": [
    {
     "name": "stdout",
     "output_type": "stream",
     "text": [
      "Test accuracy: 68.00%\n"
     ]
    }
   ],
   "source": [
    "# TO DO: Evaluate the model on the test set:\n",
    "# - Instanciate an MLP newtork and load the trained parameters\n",
    "# - Apply the evaluation function using the test dataloader\n",
    "# - Print the test accuracy\n",
    "\n",
    "model_test = MLPClassif(input_size, hidden_size, output_size, nn.Sigmoid())\n",
    "model_test.load_state_dict(model_trained.state_dict())\n",
    "accuracy = eval_mlp_classifier(model_test, test_dataloader)\n",
    "print('Test accuracy: {:.2f}%'.format(accuracy))\n"
   ]
  },
  {
   "cell_type": "markdown",
   "metadata": {},
   "source": [
    "<span style=\"color:red\">**Q2**</span> Put the plot above (training loss over epochs) and the test accuracy in your report. Based on the plot, can you suggest a way to improve the test accuracy?\n",
    "\n",
    "To improve the test accuracy, we can try to change the amount of layers, the size of the dataset. We can also try to change the activation function.\n",
    "\n",
    "## Influence of the activation function\n",
    "\n",
    "We used the MLP classifier with a Sigmoid activation function, but another common choice is the [Rectified Linear Unit](https://pytorch.org/docs/stable/generated/torch.nn.ReLU.html?highlight=relu#torch.nn.ReLU). Here we investigate how it performs compared to the Sigmoid-based network."
   ]
  },
  {
   "cell_type": "code",
   "execution_count": 20,
   "metadata": {},
   "outputs": [],
   "source": [
    "# TO DO: Define an MLP classifier called 'model_relu' using a ReLU activation. \n",
    "\n",
    "model_relu = MLPClassif(input_size, hidden_size, output_size, nn.ReLU())"
   ]
  },
  {
   "cell_type": "code",
   "execution_count": 21,
   "metadata": {},
   "outputs": [
    {
     "data": {
      "text/plain": [
       "MLPClassif(\n",
       "  (input_layer): Sequential(\n",
       "    (0): Linear(in_features=784, out_features=10, bias=False)\n",
       "    (1): ReLU()\n",
       "  )\n",
       "  (hidden_layer): Sequential(\n",
       "    (0): Linear(in_features=10, out_features=10, bias=True)\n",
       "    (1): ReLU()\n",
       "  )\n",
       "  (output_layer): Linear(in_features=10, out_features=10, bias=True)\n",
       ")"
      ]
     },
     "execution_count": 21,
     "metadata": {},
     "output_type": "execute_result"
    }
   ],
   "source": [
    "# Initialize the weights (for reproducibility)\n",
    "torch.manual_seed(0)\n",
    "model_relu.apply(init_weights)"
   ]
  },
  {
   "cell_type": "code",
   "execution_count": 22,
   "metadata": {},
   "outputs": [
    {
     "name": "stdout",
     "output_type": "stream",
     "text": [
      "Epoch [1/30], Training loss: 2.2223\n",
      "Epoch [2/30], Training loss: 1.8006\n",
      "Epoch [3/30], Training loss: 1.3115\n",
      "Epoch [4/30], Training loss: 0.8852\n",
      "Epoch [5/30], Training loss: 0.6514\n",
      "Epoch [6/30], Training loss: 0.5154\n",
      "Epoch [7/30], Training loss: 0.4162\n",
      "Epoch [8/30], Training loss: 0.3569\n",
      "Epoch [9/30], Training loss: 0.3140\n",
      "Epoch [10/30], Training loss: 0.2628\n",
      "Epoch [11/30], Training loss: 0.2301\n",
      "Epoch [12/30], Training loss: 0.1992\n",
      "Epoch [13/30], Training loss: 0.1758\n",
      "Epoch [14/30], Training loss: 0.1498\n",
      "Epoch [15/30], Training loss: 0.1314\n",
      "Epoch [16/30], Training loss: 0.1188\n",
      "Epoch [17/30], Training loss: 0.1029\n",
      "Epoch [18/30], Training loss: 0.0926\n",
      "Epoch [19/30], Training loss: 0.0799\n",
      "Epoch [20/30], Training loss: 0.0757\n",
      "Epoch [21/30], Training loss: 0.0673\n",
      "Epoch [22/30], Training loss: 0.0621\n",
      "Epoch [23/30], Training loss: 0.0565\n",
      "Epoch [24/30], Training loss: 0.0522\n",
      "Epoch [25/30], Training loss: 0.0482\n",
      "Epoch [26/30], Training loss: 0.0445\n",
      "Epoch [27/30], Training loss: 0.0413\n",
      "Epoch [28/30], Training loss: 0.0385\n",
      "Epoch [29/30], Training loss: 0.0355\n",
      "Epoch [30/30], Training loss: 0.0335\n",
      "Test accuracy (ReLU): 86.00%\n"
     ]
    },
    {
     "data": {
      "image/png": "[encoded data removed]",
      "text/plain": [
       "<Figure size 640x480 with 1 Axes>"
      ]
     },
     "metadata": {},
     "output_type": "display_data"
    },
    {
     "name": "stdout",
     "output_type": "stream",
     "text": [
      "Test accuracy (ReLU): 86.00%\n"
     ]
    }
   ],
   "source": [
    "# TO DO: Train the network and evaluate it.\n",
    "\n",
    "model_trained_relu, train_losses_relu = training_mlp_classifier(model_relu, train_dataloader, num_epochs, loss_fn, learning_rate)\n",
    "accuracy_relu = eval_mlp_classifier(model_trained_relu, test_dataloader)\n",
    "print('Test accuracy (ReLU): {:.2f}%'.format(accuracy_relu))\n",
    "\n",
    "# Training, plot the loss and save the model's parameters\n",
    "\n",
    "plt.figure()\n",
    "plt.plot(train_losses, label='CrossEntropy')\n",
    "plt.plot(train_losses_relu, label='ReLU')\n",
    "plt.xlabel('Epochs')\n",
    "plt.ylabel('Training loss')\n",
    "plt.legend()\n",
    "plt.show()\n",
    "\n",
    "# Evaluate on the test set and print accuracy\n",
    "\n",
    "accuracy = eval_mlp_classifier(model_trained_relu, test_dataloader)\n",
    "print('Test accuracy (ReLU): {:.2f}%'.format(accuracy))\n"
   ]
  },
  {
   "cell_type": "markdown",
   "metadata": {},
   "source": [
    "<span style=\"color:red\">**Q3**</span> What is the accuracy on the test set with this network? Which one (Sigmoid or ReLU) would you recommend to use?\n",
    "\n",
    "Accuracy results :\n",
    "\n",
    "- Sigmoid : 0.68\n",
    "- ReLU : 0.86\n",
    "\n",
    "I would recommend to use the ReLU activation function because it has a better accuracy."
   ]
  },
  {
   "cell_type": "markdown",
   "metadata": {},
   "source": [
    "## Increasing the model capacity\n",
    "\n",
    "In order to improve performance, a straightforward approach is to increase the model capacity, i.e., increase the number of parameters. There are basically two ways to do so : either increase the number of neurons in each layer (*width*) of increase the total number of layers (*depth*). Let's focus here on width."
   ]
  },
  {
   "cell_type": "code",
   "execution_count": 23,
   "metadata": {},
   "outputs": [
    {
     "name": "stdout",
     "output_type": "stream",
     "text": [
      "Hidden size: 3, Number of parameters: 2404, Test accuracy: 46.00%\n",
      "Hidden size: 5, Number of parameters: 4010, Test accuracy: 56.00%\n",
      "Hidden size: 10, Number of parameters: 8060, Test accuracy: 86.00%\n",
      "Hidden size: 50, Number of parameters: 42260, Test accuracy: 88.00%\n"
     ]
    }
   ],
   "source": [
    "# TO DO: define, train and evalute an MLP classifier model with a variable hidden_size:\n",
    "# - 'hidden_size' ranges in [3, 5, 10, 50]\n",
    "# - the networks use ReLU activation, and training uses 30 epochs\n",
    "# - for each hidden size, print the number of parameters and the test accuracy\n",
    "# Remember to initialize the weights of the network after instanciating it for reproducibility.\n",
    "\n",
    "hidden_sizes = [3, 5, 10, 50]\n",
    "act_fn = nn.ReLU()\n",
    "num_epochs = 30\n",
    "learning_rate = 0.01\n",
    "\n",
    "for hidden_size in hidden_sizes:\n",
    "    model = MLPClassif(input_size, hidden_size, output_size, act_fn)\n",
    "    torch.manual_seed(0)\n",
    "    model.apply(init_weights)\n",
    "    model_trained, _ = training_mlp_classifier(model, train_dataloader, num_epochs, loss_fn, learning_rate, verbose=False)\n",
    "    accuracy = eval_mlp_classifier(model_trained, test_dataloader)\n",
    "    print('Hidden size: {}, Number of parameters: {}, Test accuracy: {:.2f}%'.format(hidden_size, sum(p.numel() for p in model_trained.parameters()), accuracy))"
   ]
  },
  {
   "cell_type": "markdown",
   "metadata": {},
   "source": [
    "<span style=\"color:red\">**Q4**</span> Report the test accuracy as a function of `hidden_size`. Which value of `hidden_size` would you use and why?\n",
    "\n",
    "Accuracy results :\n",
    "\n",
    "- hidden_size = 3 : 0.46\n",
    "- hidden_size = 5 : 0.56\n",
    "- hidden_size = 10 : 0.86\n",
    "- hidden_size = 50 : 0.88\n",
    "\n",
    "I would use the hidden_size = 10 because it has a good accuracy and it's not too big, so it's not too heavy to compute."
   ]
  }
 ],
 "metadata": {
  "kernelspec": {
   "display_name": "Python 3",
   "language": "python",
   "name": "python3"
  },
  "language_info": {
   "codemirror_mode": {
    "name": "ipython",
    "version": 3
   },
   "file_extension": ".py",
   "mimetype": "text/x-python",
   "name": "python",
   "nbconvert_exporter": "python",
   "pygments_lexer": "ipython3",
   "version": "3.8.18"
  }
 },
 "nbformat": 4,
 "nbformat_minor": 4
}
